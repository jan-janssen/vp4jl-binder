{
 "cells": [
  {
   "cell_type": "code",
   "execution_count": 1,
   "id": "801e8f97-1298-4fb1-b7f4-a5807db8d976",
   "metadata": {
    "code type": "visual code"
   },
   "outputs": [
    {
     "data": {
      "application/vnd.jupyter.widget-view+json": {
       "model_id": "c06e7fd4130c4c86880a52dbab4e449b",
       "version_major": 2,
       "version_minor": 0
      },
      "text/plain": []
     },
     "metadata": {},
     "output_type": "display_data"
    }
   ],
   "source": [
    "{\"nodes\":[{\"id\":\"1\",\"type\":\"Flow Control.main\",\"position\":{\"x\":16,\"y\":33.943430187207284},\"outputs\":{\"execOut\":{\"dataType\":\"exec\"}},\"title\":\"main\"},{\"id\":\"0\",\"type\":\"pyiron.Create Project\",\"position\":{\"x\":123.75052386495918,\"y\":144.05995581123287},\"inputs\":{\"execIn\":{\"title\":\"execIn\",\"dataType\":\"exec\"},\"path\":{\"title\":\"path\",\"value\":\"test\",\"dataType\":\"string\"}},\"outputs\":{\"execOut\":{\"title\":\"execOut\",\"dataType\":\"exec\"},\"project\":{\"title\":\"Project\",\"dataType\":\"pyiron.Project\"}},\"title\":\"New Project\"},{\"id\":\"2\",\"type\":\"pyiron.Create Structure\",\"position\":{\"x\":421.75261932479634,\"y\":-46.77357392316648},\"inputs\":{\"execIn\":{\"title\":\"execIn\",\"dataType\":\"exec\"},\"element\":{\"title\":\"element\",\"value\":\"Al\",\"dataType\":\"string\"},\"cubic\":{\"title\":\"cubic\",\"value\":true,\"dataType\":\"boolean\"}},\"outputs\":{\"execOut\":{\"title\":\"execOut\",\"dataType\":\"exec\"},\"structure\":{\"title\":\"Structure\",\"dataType\":\"pyiron.Structure\"}},\"title\":\"New ASE structure\"},{\"id\":\"3\",\"type\":\"pyiron.Create Job\",\"position\":{\"x\":740,\"y\":46.80863751591064},\"inputs\":{\"execIn\":{\"title\":\"execIn\",\"dataType\":\"exec\"},\"project\":{\"title\":\"Project\",\"dataType\":\"pyiron.Project\"},\"element\":{\"title\":\"job_name\",\"value\":\"lmp\",\"dataType\":\"string\"},\"structure\":{\"title\":\"Structure\",\"dataType\":\"pyiron.Structure\"}},\"outputs\":{\"execOut\":{\"title\":\"execOut\",\"dataType\":\"exec\"},\"job\":{\"title\":\"Job\",\"dataType\":\"pyiron.Job\"}},\"title\":\"New job object\"},{\"id\":\"4\",\"type\":\"pyiron.Get Energy\",\"position\":{\"x\":1043,\"y\":47.162006141636745},\"inputs\":{\"execIn\":{\"title\":\"execIn\",\"dataType\":\"exec\"},\"job\":{\"title\":\"Job\",\"dataType\":\"pyiron.Job\"}},\"outputs\":{\"execOut\":{\"title\":\"execOut\",\"dataType\":\"exec\"},\"energy\":{\"title\":\"Energy\",\"dataType\":\"numpy.ndarray\"}},\"title\":\"Get Energy\"},{\"id\":\"5\",\"type\":\"Function & Variable Creation.return\",\"position\":{\"x\":1245,\"y\":40.03279418934915},\"inputs\":{\"execIn\":{\"title\":\"execIn\",\"dataType\":\"exec\"},\"in_0\":{\"title\":\"result\",\"dataType\":\"anyDataType\"}},\"title\":\"return\"}],\"edges\":[{\"id\":\"reactflow__edge-1execOut-0execIn\",\"output\":\"1\",\"input\":\"0\",\"outputHandle\":\"execOut\",\"inputHandle\":\"execIn\",\"dataType\":\"exec\",\"style\":{\"strokeWidth\":2,\"stroke\":\"hsl(0, 0%, 0%)\"}},{\"id\":\"reactflow__edge-0execOut-2execIn\",\"output\":\"0\",\"input\":\"2\",\"outputHandle\":\"execOut\",\"inputHandle\":\"execIn\",\"dataType\":\"exec\",\"style\":{\"strokeWidth\":2,\"stroke\":\"hsl(0, 0%, 0%)\"}},{\"id\":\"reactflow__edge-2execOut-3execIn\",\"output\":\"2\",\"input\":\"3\",\"outputHandle\":\"execOut\",\"inputHandle\":\"execIn\",\"dataType\":\"exec\",\"style\":{\"strokeWidth\":2,\"stroke\":\"hsl(0, 0%, 0%)\"}},{\"id\":\"reactflow__edge-0project-3project\",\"output\":\"0\",\"input\":\"3\",\"outputHandle\":\"project\",\"inputHandle\":\"project\",\"dataType\":\"pyiron.Project\",\"style\":{\"strokeWidth\":2,\"stroke\":\"hsl(30, 50%, 60%)\"}},{\"id\":\"reactflow__edge-2structure-3structure\",\"output\":\"2\",\"input\":\"3\",\"outputHandle\":\"structure\",\"inputHandle\":\"structure\",\"dataType\":\"pyiron.Structure\",\"style\":{\"strokeWidth\":2,\"stroke\":\"hsl(30, 50%, 60%)\"}},{\"id\":\"reactflow__edge-3job-4job\",\"output\":\"3\",\"input\":\"4\",\"outputHandle\":\"job\",\"inputHandle\":\"job\",\"dataType\":\"pyiron.Job\",\"style\":{\"strokeWidth\":2,\"stroke\":\"hsl(30, 50%, 60%)\"}},{\"id\":\"reactflow__edge-3execOut-4execIn\",\"output\":\"3\",\"input\":\"4\",\"outputHandle\":\"execOut\",\"inputHandle\":\"execIn\",\"dataType\":\"exec\",\"style\":{\"strokeWidth\":2,\"stroke\":\"hsl(0, 0%, 0%)\"}},{\"id\":\"reactflow__edge-4execOut-5execIn\",\"output\":\"4\",\"input\":\"5\",\"outputHandle\":\"execOut\",\"inputHandle\":\"execIn\",\"dataType\":\"exec\",\"style\":{\"strokeWidth\":2,\"stroke\":\"hsl(0, 0%, 0%)\"}},{\"id\":\"reactflow__edge-4energy-5in_0\",\"output\":\"4\",\"input\":\"5\",\"outputHandle\":\"energy\",\"inputHandle\":\"in_0\",\"dataType\":\"anyDataType\",\"style\":{\"strokeWidth\":2,\"stroke\":\"hsl(0, 0%, 50%)\"}}]}"
   ]
  },
  {
   "cell_type": "code",
   "execution_count": 2,
   "id": "3eea50c9-3ebe-483b-932e-b34c5b9f1ff7",
   "metadata": {},
   "outputs": [
    {
     "data": {
      "text/plain": [
       "{'__name__': '__main__',\n",
       " '__doc__': 'Automatically created module for IPython interactive environment',\n",
       " '__package__': None,\n",
       " '__loader__': None,\n",
       " '__spec__': None,\n",
       " '__builtin__': <module 'builtins' (built-in)>,\n",
       " '__builtins__': <module 'builtins' (built-in)>,\n",
       " '_ih': ['',\n",
       "  'from pyiron_atomistics import Project\\nfrom ase.build import bulk\\nfrom pyiron_base import Project',\n",
       "  'globals()'],\n",
       " '_oh': {},\n",
       " '_dh': [PosixPath('/Users/janssen/notebooks/2024/2024-07-03-nfdi4ing-graph')],\n",
       " 'In': ['',\n",
       "  'from pyiron_atomistics import Project\\nfrom ase.build import bulk\\nfrom pyiron_base import Project',\n",
       "  'globals()'],\n",
       " 'Out': {},\n",
       " 'get_ipython': <bound method InteractiveShell.get_ipython of <ipykernel.zmqshell.ZMQInteractiveShell object at 0x11a18f490>>,\n",
       " 'exit': <IPython.core.autocall.ZMQExitAutocall at 0x11a1a8750>,\n",
       " 'quit': <IPython.core.autocall.ZMQExitAutocall at 0x11a1a8750>,\n",
       " 'open': <function io.open(file, mode='r', buffering=-1, encoding=None, errors=None, newline=None, closefd=True, opener=None)>,\n",
       " '_': '',\n",
       " '__': '',\n",
       " '___': '',\n",
       " '__session__': '/Users/janssen/notebooks/2024/2024-07-03-nfdi4ing-graph/demo-vp4jl.ipynb',\n",
       " '_i': 'from pyiron_atomistics import Project\\nfrom ase.build import bulk\\nfrom pyiron_base import Project',\n",
       " '_ii': '',\n",
       " '_iii': '',\n",
       " '_i1': 'from pyiron_atomistics import Project\\nfrom ase.build import bulk\\nfrom pyiron_base import Project',\n",
       " 'Project': pyiron_base.project.generic.Project,\n",
       " 'bulk': <function ase.build.bulk.bulk(name: str, crystalstructure: str = None, a: float = None, b: float = None, c: float = None, *, alpha: float = None, covera: float = None, u: float = None, orthorhombic: bool = False, cubic: bool = False, basis=None) -> ase.atoms.Atoms>,\n",
       " '_i2': 'globals()'}"
      ]
     },
     "execution_count": 2,
     "metadata": {},
     "output_type": "execute_result"
    }
   ],
   "source": [
    "globals()"
   ]
  },
  {
   "cell_type": "code",
   "execution_count": null,
   "id": "9aa79038-221a-4a43-b7f5-ee0b79a473e7",
   "metadata": {},
   "outputs": [],
   "source": []
  }
 ],
 "metadata": {
  "kernelspec": {
   "display_name": "Python 3 (ipykernel)",
   "language": "python",
   "name": "python3"
  },
  "language_info": {
   "codemirror_mode": {
    "name": "ipython",
    "version": 3
   },
   "file_extension": ".py",
   "mimetype": "text/x-python",
   "name": "python",
   "nbconvert_exporter": "python",
   "pygments_lexer": "ipython3",
   "version": "3.11.9"
  }
 },
 "nbformat": 4,
 "nbformat_minor": 5
}
